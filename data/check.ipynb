{
 "cells": [
  {
   "cell_type": "code",
   "execution_count": null,
   "id": "74a64d76",
   "metadata": {},
   "outputs": [
    {
     "name": "stdout",
     "output_type": "stream",
     "text": [
      "Columns: ['id', 'gender', 'masterCategory', 'subCategory', 'articleType', 'baseColour', 'season', 'year', 'usage', 'productDisplayName']\n",
      "First 5 rows:\n",
      "      id  gender masterCategory subCategory articleType baseColour  season  \\\n",
      "0  1163     Men        Apparel     Topwear     Tshirts       Blue  Summer   \n",
      "1  1164     Men        Apparel     Topwear     Tshirts       Blue  Winter   \n",
      "2  1165     Men        Apparel     Topwear     Tshirts       Blue  Summer   \n",
      "3  1525  Unisex    Accessories        Bags   Backpacks  Navy Blue    Fall   \n",
      "4  1526  Unisex    Accessories        Bags   Backpacks      Black    Fall   \n",
      "\n",
      "   year   usage                                productDisplayName  \n",
      "0  2011  Sports  Nike Sahara Team India Fanwear Round Neck Jersey  \n",
      "1  2015  Sports           Nike Men Blue T20 Indian Cricket Jersey  \n",
      "2  2013  Sports               Nike Mean Team India Cricket Jersey  \n",
      "3  2010  Casual                      Puma Deck Navy Blue Backpack  \n",
      "4  2010  Sports                       Puma Big Cat Backpack Black  \n",
      "Total rows: 100\n",
      "All images are present!\n"
     ]
    }
   ],
   "source": [
    "# Import pandas\n",
    "import pandas as pd\n",
    "import os\n",
    "\n",
    "# Path to CSV and images folder\n",
    "csv_path = r\"data\\raw\\styles.csv\"  # put your styles.csv path here\n",
    "images_folder = r\"data\\raw\\images\"  # put your 100 images here\n",
    "\n",
    "# Load CSV\n",
    "df = pd.read_csv(csv_path, on_bad_lines='skip')\n",
    "\n",
    "# Display basic info\n",
    "print(\"Columns:\", df.columns.tolist())\n",
    "print(\"First 5 rows:\\n\", df.head())\n",
    "print(\"Total rows:\", len(df))\n",
    "\n",
    "# Check if images exist for each ID\n",
    "missing_images = [f\"{id_}.jpg\" for id_ in df['id'] if not os.path.exists(os.path.join(images_folder, f\"{id_}.jpg\"))]\n",
    "\n",
    "if missing_images:\n",
    "  print(f\"Missing images ({len(missing_images)}):\", missing_images)\n",
    "else:\n",
    "  print(\"All images are present!\")\n"
   ]
  }
 ],
 "metadata": {
  "kernelspec": {
   "display_name": "Python 3",
   "language": "python",
   "name": "python3"
  },
  "language_info": {
   "codemirror_mode": {
    "name": "ipython",
    "version": 3
   },
   "file_extension": ".py",
   "mimetype": "text/x-python",
   "name": "python",
   "nbconvert_exporter": "python",
   "pygments_lexer": "ipython3",
   "version": "3.10.6"
  }
 },
 "nbformat": 4,
 "nbformat_minor": 5
}
